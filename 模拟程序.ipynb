{
 "cells": [
  {
   "cell_type": "markdown",
   "id": "097bd8dd",
   "metadata": {},
   "source": [
    "# 这是一个用来模拟储能充放策略算法的模拟程序"
   ]
  },
  {
   "cell_type": "markdown",
   "id": "dd752e0b",
   "metadata": {},
   "source": [
    "![规则集说明图](./规则集-第一版.png)"
   ]
  },
  {
   "cell_type": "code",
   "execution_count": 41,
   "id": "8eabe625",
   "metadata": {},
   "outputs": [],
   "source": [
    "from test_ruleset_battery import *\n",
    "from pandas.core.frame import DataFrame\n",
    "import pandas as pd\n",
    "import os\n",
    "from os.path import join"
   ]
  },
  {
   "cell_type": "code",
   "execution_count": 60,
   "id": "c03cf5a7",
   "metadata": {},
   "outputs": [],
   "source": [
    "'''\n",
    "模拟程序输入：df(p_pvlist, p_loadlist, c_outlist), c_pv, soc, soc_max, soc_min, p_bat_in_max, p_bat_out_max\n",
    "分别对应的是：光伏a、负荷序列a，分时电价序列a，光伏上网电价，初始的SOC，SOC上下限，电池充上限功率，电池放上限功率\n",
    "\n",
    "模拟程序输出：(p_batlist, p_上网list, p_下网list), modelist, soclist, targetlist\n",
    "分别对应的是：策略a（电池充放功率，上网功率，下网功率），工作模式a，储能电池容量a, 经济效益指标a\n",
    "\n",
    "---> 每一步策略生成之间包含一个soc的状态转移方程（类似）\n",
    " \n",
    "带a的表示是时间序列格式的数据\n",
    "不带a的表示不是时间序列，就是一个值\n",
    "\n",
    "'''\n",
    "def moc_program(df, c_pv, soc, soc_max, soc_min, p_bat_in_max, p_bat_out_max):\n",
    "    \n",
    "    times=df.shape[0]#获取行数，即知道需要循环执行几次调度算法，for i in range(1,times):执行一次调度算法，times+1\n",
    "    \n",
    "    #循环执行times次的调度算法，每次执行完毕之后做一下soc的计算，用于下一次循环的输入\n",
    "    '''\n",
    "    执行一次储能充放策略调度算法（可以是基于规则集的也可以是基于线性规划的）：\n",
    "    schedule_bat_rule((p_pv,p_load,c_out,c_pv,soc,soc_max,soc_min,p_bat_in_max,p_bat_out_max),return \n",
    "    return p_bat,p_上网,p_下网,mode,mode_dict[mode])\n",
    "    '''     \n",
    "    p_batlist=[]\n",
    "    p_上网list=[]\n",
    "    p_下网list=[]\n",
    "    modelist=[]\n",
    "    targetlist=[]\n",
    "    soclist=[]\n",
    "        \n",
    "    for i in range(1, times+1):\n",
    "        p_pv=df.iloc[i-1,1]\n",
    "        p_load=df.iloc[i-1,2]\n",
    "        c_out=df.iloc[i-1,3]\n",
    "        \n",
    "        p_bat_now=schedule_bat_rule(p_pv,p_load,c_out,c_pv,soc,soc_max,soc_min,p_bat_in_max,p_bat_out_max)[0]\n",
    "        p_上网_now=schedule_bat_rule(p_pv,p_load,c_out,c_pv,soc,soc_max,soc_min,p_bat_in_max,p_bat_out_max)[1]\n",
    "        p_下网_now=schedule_bat_rule(p_pv,p_load,c_out,c_pv,soc,soc_max,soc_min,p_bat_in_max,p_bat_out_max)[2]\n",
    "        mode_now=schedule_bat_rule(p_pv,p_load,c_out,c_pv,soc,soc_max,soc_min,p_bat_in_max,p_bat_out_max)[3]\n",
    "        \n",
    "        p_batlist.append(p_bat_now)\n",
    "        p_上网list.append(p_上网_now)\n",
    "        p_下网list.append(p_下网_now)\n",
    "        modelist.append(mode_now)\n",
    "\n",
    "        soc=soc-p_bat_now*0.5\n",
    "        \n",
    "        soclist.append(soc)         \n",
    "        \n",
    "    return p_batlist, p_上网list, p_下网list, modelist, soclist, targetlist"
   ]
  },
  {
   "cell_type": "markdown",
   "id": "d6369aa8",
   "metadata": {},
   "source": [
    "# 测试1：1101-1107实际园区光伏负荷"
   ]
  },
  {
   "cell_type": "markdown",
   "id": "8179302b",
   "metadata": {},
   "source": [
    "## 准备测试所需的输入数据"
   ]
  },
  {
   "cell_type": "code",
   "execution_count": 56,
   "id": "18078be9",
   "metadata": {},
   "outputs": [],
   "source": [
    "df=pd.read_excel(\"C:/Users/79918/Desktop/新建文件夹/new_ems/doc/算法相关/【模拟数据算法小测-xt】.xlsx\",sheet_name=\"模拟数据\")\n",
    "df=df.iloc[:,[0,1,2,3]]"
   ]
  },
  {
   "cell_type": "code",
   "execution_count": 57,
   "id": "63c49d01",
   "metadata": {},
   "outputs": [
    {
     "data": {
      "text/html": [
       "<div>\n",
       "<style scoped>\n",
       "    .dataframe tbody tr th:only-of-type {\n",
       "        vertical-align: middle;\n",
       "    }\n",
       "\n",
       "    .dataframe tbody tr th {\n",
       "        vertical-align: top;\n",
       "    }\n",
       "\n",
       "    .dataframe thead th {\n",
       "        text-align: right;\n",
       "    }\n",
       "</style>\n",
       "<table border=\"1\" class=\"dataframe\">\n",
       "  <thead>\n",
       "    <tr style=\"text-align: right;\">\n",
       "      <th></th>\n",
       "      <th>datetime</th>\n",
       "      <th>p_pv</th>\n",
       "      <th>p_load</th>\n",
       "      <th>c_out</th>\n",
       "    </tr>\n",
       "  </thead>\n",
       "  <tbody>\n",
       "    <tr>\n",
       "      <th>0</th>\n",
       "      <td>2021-11-01 00:00:00</td>\n",
       "      <td>0</td>\n",
       "      <td>27.563387</td>\n",
       "      <td>0.266</td>\n",
       "    </tr>\n",
       "    <tr>\n",
       "      <th>1</th>\n",
       "      <td>2021-11-01 01:00:00</td>\n",
       "      <td>0</td>\n",
       "      <td>25.563076</td>\n",
       "      <td>0.266</td>\n",
       "    </tr>\n",
       "    <tr>\n",
       "      <th>2</th>\n",
       "      <td>2021-11-01 02:00:00</td>\n",
       "      <td>0</td>\n",
       "      <td>26.165248</td>\n",
       "      <td>0.266</td>\n",
       "    </tr>\n",
       "    <tr>\n",
       "      <th>3</th>\n",
       "      <td>2021-11-01 03:00:00</td>\n",
       "      <td>0</td>\n",
       "      <td>29.008954</td>\n",
       "      <td>0.266</td>\n",
       "    </tr>\n",
       "    <tr>\n",
       "      <th>4</th>\n",
       "      <td>2021-11-01 04:00:00</td>\n",
       "      <td>0</td>\n",
       "      <td>26.973848</td>\n",
       "      <td>0.266</td>\n",
       "    </tr>\n",
       "    <tr>\n",
       "      <th>...</th>\n",
       "      <td>...</td>\n",
       "      <td>...</td>\n",
       "      <td>...</td>\n",
       "      <td>...</td>\n",
       "    </tr>\n",
       "    <tr>\n",
       "      <th>163</th>\n",
       "      <td>2021-11-07 19:00:00</td>\n",
       "      <td>0</td>\n",
       "      <td>31.499202</td>\n",
       "      <td>0.888</td>\n",
       "    </tr>\n",
       "    <tr>\n",
       "      <th>164</th>\n",
       "      <td>2021-11-07 20:00:00</td>\n",
       "      <td>0</td>\n",
       "      <td>30.960550</td>\n",
       "      <td>0.888</td>\n",
       "    </tr>\n",
       "    <tr>\n",
       "      <th>165</th>\n",
       "      <td>2021-11-07 21:00:00</td>\n",
       "      <td>0</td>\n",
       "      <td>29.981028</td>\n",
       "      <td>0.538</td>\n",
       "    </tr>\n",
       "    <tr>\n",
       "      <th>166</th>\n",
       "      <td>2021-11-07 22:00:00</td>\n",
       "      <td>0</td>\n",
       "      <td>27.507491</td>\n",
       "      <td>0.266</td>\n",
       "    </tr>\n",
       "    <tr>\n",
       "      <th>167</th>\n",
       "      <td>2021-11-07 23:00:00</td>\n",
       "      <td>0</td>\n",
       "      <td>26.951950</td>\n",
       "      <td>0.266</td>\n",
       "    </tr>\n",
       "  </tbody>\n",
       "</table>\n",
       "<p>168 rows × 4 columns</p>\n",
       "</div>"
      ],
      "text/plain": [
       "               datetime  p_pv     p_load  c_out\n",
       "0   2021-11-01 00:00:00     0  27.563387  0.266\n",
       "1   2021-11-01 01:00:00     0  25.563076  0.266\n",
       "2   2021-11-01 02:00:00     0  26.165248  0.266\n",
       "3   2021-11-01 03:00:00     0  29.008954  0.266\n",
       "4   2021-11-01 04:00:00     0  26.973848  0.266\n",
       "..                  ...   ...        ...    ...\n",
       "163 2021-11-07 19:00:00     0  31.499202  0.888\n",
       "164 2021-11-07 20:00:00     0  30.960550  0.888\n",
       "165 2021-11-07 21:00:00     0  29.981028  0.538\n",
       "166 2021-11-07 22:00:00     0  27.507491  0.266\n",
       "167 2021-11-07 23:00:00     0  26.951950  0.266\n",
       "\n",
       "[168 rows x 4 columns]"
      ]
     },
     "execution_count": 57,
     "metadata": {},
     "output_type": "execute_result"
    }
   ],
   "source": [
    "df"
   ]
  },
  {
   "cell_type": "code",
   "execution_count": 58,
   "id": "90405637",
   "metadata": {},
   "outputs": [],
   "source": [
    "df=df\n",
    "c_pv=0.415\n",
    "#soc=30\n",
    "soc_max=95\n",
    "soc_min=5\n",
    "p_bat_in_max=20\n",
    "p_bat_out_max=20"
   ]
  },
  {
   "cell_type": "markdown",
   "id": "28ce7321",
   "metadata": {},
   "source": [
    "## 测试结果"
   ]
  },
  {
   "cell_type": "code",
   "execution_count": 61,
   "id": "2cf7c6ba",
   "metadata": {},
   "outputs": [],
   "source": [
    "#获取模拟程序的结果\n",
    "for soc in range(0,101):\n",
    "    soc=soc\n",
    "    p_batlist=moc_program(df, c_pv, soc, soc_max, soc_min, p_bat_in_max, p_bat_out_max)[0]\n",
    "    p_上网list=moc_program(df, c_pv, soc, soc_max, soc_min, p_bat_in_max, p_bat_out_max)[1]\n",
    "    p_下网list=moc_program(df, c_pv, soc, soc_max, soc_min, p_bat_in_max, p_bat_out_max)[2]\n",
    "    modelist=moc_program(df, c_pv, soc, soc_max, soc_min, p_bat_in_max, p_bat_out_max)[3]\n",
    "    soclist=moc_program(df, c_pv, soc, soc_max, soc_min, p_bat_in_max, p_bat_out_max)[4]\n",
    "    #targetlist=moc_program(df, c_pv, soc, soc_max, soc_min, p_bat_in_max, p_bat_out_max)[5]\n",
    "    #对结果进行整理\n",
    "    #把工作模式对应的简单文字说明加到results里面\n",
    "\n",
    "    modetextlist=[]\n",
    "    for i in modelist:\n",
    "        modetextlist.append(mode_dict[i])\n",
    "\n",
    "    results={\n",
    "        \"datetime\":df.iloc[:,0].tolist(),\n",
    "        \"光伏功率_\":df.iloc[:,1].tolist(),\n",
    "        \"负荷功率_\":df.iloc[:,2].tolist(),\n",
    "        \"电价_\":df.iloc[:,3].tolist(),\n",
    "        \"电池充放功率指令\" : p_batlist,\n",
    "        \"上网功率\" : p_上网list,\n",
    "        \"下网功率\" : p_下网list,\n",
    "        \"工作模式\" : modelist,\n",
    "        \"工作模式说明\" : modetextlist,\n",
    "        \"下一步soc%\" : soclist\n",
    "    #    \"经济效益指标\" : targetlist\n",
    "    }\n",
    "    results=DataFrame(results)#将字典转换成为数据框\n",
    "\n",
    "    #把整理完毕的结果输出看一下\n",
    "    a = join(r'C:\\\\Users\\\\79918\\\\Desktop\\\\结果\\\\', str(soc)+'.csv')\n",
    "    results.to_csv(a,encoding='utf_8_sig')"
   ]
  },
  {
   "cell_type": "code",
   "execution_count": 62,
   "id": "85d7ac46",
   "metadata": {},
   "outputs": [],
   "source": [
    "newdir = r'C:\\\\Users\\\\79918\\\\Desktop\\\\结果\\\\'\n",
    "list = os.listdir(newdir)  # 列出文件夹下所有的目录与文件\n",
    "\n",
    "writer = pd.ExcelWriter('SOC_1101-1107.xlsx')\n",
    "\n",
    "\n",
    "for i in range(0,len(list)):\n",
    "    a=join(newdir,list[i])\n",
    "    data = pd.read_csv(a,encoding=\"utf_8_sig\")\n",
    "    data.to_excel(writer, sheet_name=list[i])\n",
    "\n",
    "writer.save()"
   ]
  },
  {
   "cell_type": "markdown",
   "id": "46cd4893",
   "metadata": {},
   "source": [
    "# 测试2：光伏弱的情况"
   ]
  },
  {
   "cell_type": "code",
   "execution_count": null,
   "id": "20084a59",
   "metadata": {},
   "outputs": [],
   "source": []
  }
 ],
 "metadata": {
  "kernelspec": {
   "display_name": "Python 3",
   "language": "python",
   "name": "python3"
  },
  "language_info": {
   "codemirror_mode": {
    "name": "ipython",
    "version": 3
   },
   "file_extension": ".py",
   "mimetype": "text/x-python",
   "name": "python",
   "nbconvert_exporter": "python",
   "pygments_lexer": "ipython3",
   "version": "3.8.8"
  },
  "toc": {
   "base_numbering": 1,
   "nav_menu": {},
   "number_sections": true,
   "sideBar": true,
   "skip_h1_title": false,
   "title_cell": "Table of Contents",
   "title_sidebar": "Contents",
   "toc_cell": false,
   "toc_position": {
    "height": "calc(100% - 180px)",
    "left": "10px",
    "top": "150px",
    "width": "256px"
   },
   "toc_section_display": true,
   "toc_window_display": true
  }
 },
 "nbformat": 4,
 "nbformat_minor": 5
}
