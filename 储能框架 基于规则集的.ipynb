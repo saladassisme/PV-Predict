{
 "cells": [
  {
   "cell_type": "markdown",
   "id": "78a5b8f5",
   "metadata": {},
   "source": [
    "### 储能框架 基于规则集的"
   ]
  },
  {
   "cell_type": "markdown",
   "id": "4f3a53dd",
   "metadata": {},
   "source": [
    "![规则集说明图](./规则集-第一版.png)"
   ]
  },
  {
   "cell_type": "markdown",
   "id": "66056fed",
   "metadata": {},
   "source": [
    "#### 输入的变量：\n",
    "#### 下一个步长的P_pv，P_load，C_out，C_pv\n",
    "#### 当前时间步长的SOC，SOC_max，SOC_min，P_bat_in_max，P_bat_out_max"
   ]
  },
  {
   "cell_type": "code",
   "execution_count": 5,
   "id": "77c64f4d",
   "metadata": {},
   "outputs": [],
   "source": [
    "mode_dict={1:\"光伏>负荷，余电上网\",2:\"光伏>负荷，余电充进电池\",3:\"光伏>负荷，余电先充进电池，再上网\",4:\"光伏>负荷，余电上网\",\n",
    "               5:\"负荷>光伏，外网电充进电池，负荷不足电网供电\",6:\"负荷>光伏，负荷不足由电网供电\",\n",
    "               7:\"负荷>光伏，电池放电给负荷\",8:\"负荷>光伏，电池放电给负荷，剩余负荷不足由电网供电\",\n",
    "               9:\"负荷>光伏，外网电充进电池，负荷不足由电网供电\",10:\"负荷>光伏，负荷不足由电网供电\"}"
   ]
  },
  {
   "cell_type": "code",
   "execution_count": 6,
   "id": "ce194a20",
   "metadata": {},
   "outputs": [],
   "source": [
    "def schedule_bat_rule(p_pv,p_load,c_out,c_pv,soc,soc_max,soc_min,p_bat_in_max,p_bat_out_max):\n",
    "    p_bat=0\n",
    "    p_上网=0\n",
    "    p_下网=0\n",
    "    if p_pv>p_load:\n",
    "        p_res=p_pv-p_load\n",
    "        if soc<soc_max:\n",
    "            if c_pv>c_out:###################################情况1\n",
    "                p_上网=p_res\n",
    "                mode=1\n",
    "            else:\n",
    "                if p_bat_in_max>p_res:#########################################情况2\n",
    "                    p_bat=-p_res##充电\n",
    "                    mode=2\n",
    "                else:#######################################情况3\n",
    "                    p_bat=-p_bat_in_max##充电\n",
    "                    p_上网=p_res-p_bat_in_max\n",
    "                    mode=3\n",
    "        else:###################################################情况4\n",
    "            p_上网=p_res\n",
    "            mode=4\n",
    "    else:\n",
    "        p_lack=p_load-p_pv\n",
    "        if soc>soc_min:\n",
    "            if c_pv>c_out:\n",
    "                if soc<soc_max:###################################################情况5\n",
    "                    p_bat=-p_bat_in_max##充电\n",
    "                    p_下网=p_lack+p_bat_in_max\n",
    "                    mode=5\n",
    "                else:###################################################情况6\n",
    "                    p_下网=p_lack\n",
    "                    mode=6\n",
    "            else:\n",
    "                if p_bat_out_max>p_lack:###################################################情况7\n",
    "                    p_bat=p_lack##放电\n",
    "                    mode=7\n",
    "                else:###################################################情况8\n",
    "                    p_bat=p_bat_out_max##放电\n",
    "                    p_下网=p_lack-p_bat_out_max\n",
    "                    mode=8\n",
    "        else:\n",
    "            if c_pv>c_out:###################################################情况9\n",
    "                p_bat=-p_bat_in_max##充电\n",
    "                p_下网=p_lack+p_bat_in_max\n",
    "                mode=9\n",
    "            else:###################################################情况10\n",
    "                p_下网=p_lack\n",
    "                mode=10\n",
    "    return p_bat,p_上网,p_下网,mode"
   ]
  },
  {
   "cell_type": "code",
   "execution_count": 7,
   "id": "e058a92b",
   "metadata": {},
   "outputs": [],
   "source": [
    "p_pv,p_load,c_out,c_pv,soc,soc_max,soc_min,p_bat_in_max,p_bat_out_max=90,10,0.888,0.4,67.5,95,5,20,20"
   ]
  },
  {
   "cell_type": "code",
   "execution_count": 11,
   "id": "ab0e74c5",
   "metadata": {},
   "outputs": [
    {
     "data": {
      "text/plain": [
       "(-20, 60, 0, 3)"
      ]
     },
     "execution_count": 11,
     "metadata": {},
     "output_type": "execute_result"
    }
   ],
   "source": [
    "schedule_bat_rule(p_pv,p_load,c_out,c_pv,soc,soc_max,soc_min,p_bat_in_max,p_bat_out_max)"
   ]
  },
  {
   "cell_type": "code",
   "execution_count": null,
   "id": "33548110",
   "metadata": {},
   "outputs": [],
   "source": []
  }
 ],
 "metadata": {
  "kernelspec": {
   "display_name": "Python 3",
   "language": "python",
   "name": "python3"
  },
  "language_info": {
   "codemirror_mode": {
    "name": "ipython",
    "version": 3
   },
   "file_extension": ".py",
   "mimetype": "text/x-python",
   "name": "python",
   "nbconvert_exporter": "python",
   "pygments_lexer": "ipython3",
   "version": "3.8.8"
  },
  "toc": {
   "base_numbering": 1,
   "nav_menu": {},
   "number_sections": true,
   "sideBar": true,
   "skip_h1_title": false,
   "title_cell": "Table of Contents",
   "title_sidebar": "Contents",
   "toc_cell": false,
   "toc_position": {},
   "toc_section_display": true,
   "toc_window_display": false
  }
 },
 "nbformat": 4,
 "nbformat_minor": 5
}
